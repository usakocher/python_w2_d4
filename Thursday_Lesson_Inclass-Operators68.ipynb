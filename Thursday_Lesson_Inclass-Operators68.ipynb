{
 "cells": [
  {
   "cell_type": "markdown",
   "metadata": {},
   "source": [
    "# Object-Oriented-Programming (OOP)"
   ]
  },
  {
   "cell_type": "markdown",
   "metadata": {},
   "source": [
    "## Tasks Today:\n",
    "\n",
    "   \n",
    "\n",
    "1) <b>Creating a Class (Initializing/Declaring)</b> <br>\n",
    "2) <b>Using a Class (Instantiating)</b> <br>\n",
    " &nbsp;&nbsp;&nbsp;&nbsp; a) Creating One Instance <br>\n",
    " &nbsp;&nbsp;&nbsp;&nbsp; b) Creating Multiple Instances <br>\n",
    " &nbsp;&nbsp;&nbsp;&nbsp; c) In-Class Exercise #1 - Create a Class 'Car' and instantiate three different makes of cars <br>\n",
    "3) <b>The \\__init\\__() Method</b> <br>\n",
    " &nbsp;&nbsp;&nbsp;&nbsp; a) The 'self' Attribute <br>\n",
    "4) <b>Class Attributes</b> <br>\n",
    " &nbsp;&nbsp;&nbsp;&nbsp; a) Initializing Attributes <br>\n",
    " &nbsp;&nbsp;&nbsp;&nbsp; b) Setting an Attribute Outside of the \\__init\\__() Method <br>\n",
    " &nbsp;&nbsp;&nbsp;&nbsp; c) Setting Defaults for Attributes <br>\n",
    " &nbsp;&nbsp;&nbsp;&nbsp; d) Accessing Class Attributes <br>\n",
    " &nbsp;&nbsp;&nbsp;&nbsp; e) Changing Class Attributes <br>\n",
    " &nbsp;&nbsp;&nbsp;&nbsp; f) In-Class Exercise #2 - Add a color and wheels attribute to your 'Car' class <br>\n",
    "5) <b>Class Methods</b> <br>\n",
    " &nbsp;&nbsp;&nbsp;&nbsp; a) Creating <br>\n",
    " &nbsp;&nbsp;&nbsp;&nbsp; b) Calling <br>\n",
    " &nbsp;&nbsp;&nbsp;&nbsp; c) Modifying an Attribute's Value Through a Method <br>\n",
    " &nbsp;&nbsp;&nbsp;&nbsp; d) Incrementing an Attribute's Value Through a Method <br>\n",
    " &nbsp;&nbsp;&nbsp;&nbsp; e) In-Class Exercise #3 - Add a method that prints the cars color and wheel number, then call them <br>\n",
    "6) <b>Inheritance</b> <br>\n",
    " &nbsp;&nbsp;&nbsp;&nbsp; a) Syntax for Inheriting from a Parent Class <br>\n",
    " &nbsp;&nbsp;&nbsp;&nbsp; b) The \\__init\\__() Method for a Child Class (super()) <br>\n",
    " &nbsp;&nbsp;&nbsp;&nbsp; c) Defining Attributes and Methods for the Child Class <br>\n",
    " &nbsp;&nbsp;&nbsp;&nbsp; d) Method Overriding <br>\n",
    " &nbsp;&nbsp;&nbsp;&nbsp; e) In-Class Exercise #4 - Create a class 'Ford' that inherits from 'Car' class and initialize it as a Blue Ford Explorer with 4 wheels using the super() method <br>\n",
    "7) <b>Classes as Attributes</b> <br>\n",
    "8) <b>Exercises</b> <br>\n",
    " &nbsp;&nbsp;&nbsp;&nbsp; a) Exercise #1 - Turn the shopping cart program from yesterday into an object-oriented program <br>"
   ]
  },
  {
   "cell_type": "code",
   "execution_count": null,
   "metadata": {},
   "outputs": [],
   "source": [
    "# In Class Shopping Cart example"
   ]
  },
  {
   "cell_type": "code",
   "execution_count": 17,
   "metadata": {},
   "outputs": [
    {
     "name": "stdout",
     "output_type": "stream",
     "text": [
      "What would you like to do? Add / remove / show / clear your cart / quit: quit\n",
      "Thanks for shopping with us!\n",
      "Here is your cart...\n",
      "apple\n"
     ]
    }
   ],
   "source": [
    "from IPython.display import clear_output\n",
    "\n",
    "cart = []\n",
    "\n",
    "# Adding Item to cart\n",
    "\n",
    "def addItem(item):\n",
    "    clear_output()\n",
    "    cart.append(item)\n",
    "\n",
    "# Remove from cart\n",
    "def removeItem(item):\n",
    "    clear_output()\n",
    "    cart.remove(item)\n",
    "\n",
    "# Show Cart\n",
    "def showCart():\n",
    "    print('Here is your cart...')\n",
    "    for item in cart:\n",
    "        print(item)\n",
    "\n",
    "# Clear Cart\n",
    "def clearCart():\n",
    "    print('Your cart is now empty...')\n",
    "    cart.clear()\n",
    "\n",
    "    \n",
    "# Program utilizing pre-built functionality\n",
    "def shoppingCart():\n",
    "    while True:\n",
    "        response = input(\"What would you like to do? Add / remove / show / clear your cart / quit: \")\n",
    "        if response.lower() == 'quit':\n",
    "            print('Thanks for shopping with us!')\n",
    "            showCart()\n",
    "            break\n",
    "        elif response.lower() == 'add':\n",
    "            item_add = input('What would you like to add? ')\n",
    "            addItem(item_add)\n",
    "        elif response.lower() == 'remove':\n",
    "            showCart()\n",
    "            item_rem = input('What do you want to remove? ')\n",
    "            removeItem(item_rem)\n",
    "        elif response.lower() == 'show':\n",
    "            showCart()\n",
    "        elif response.lower() == 'clear':\n",
    "            clearCart()\n",
    "        else:\n",
    "            print('Sorry not a valid response...')\n",
    "\n",
    "shoppingCart()"
   ]
  },
  {
   "cell_type": "markdown",
   "metadata": {},
   "source": [
    "## Creating a Class (Initializing/Declaring)\n",
    "<p>When creating a class, function, or even a variable you are initializing that object. Initializing and Declaring occur at the same time in Python, whereas in lower level languages you have to declare an object before initializing it. This is the first step in the process of using a class.</p>"
   ]
  },
  {
   "cell_type": "code",
   "execution_count": 19,
   "metadata": {},
   "outputs": [],
   "source": [
    "# class Car: OR class Car():\n",
    "# class names start with capital letter\n",
    "class Car():\n",
    "    wheels = 4\n",
    "    color = 'blue'"
   ]
  },
  {
   "cell_type": "markdown",
   "metadata": {},
   "source": [
    "## Using a Class (Instantiating)\n",
    "<p>The process of creating a class is called <i>Instantiating</i>. Each time you create a variable of that type of class, it is referred to as an <i>Instance</i> of that class. This is the second step in the process of using a class.</p>"
   ]
  },
  {
   "cell_type": "markdown",
   "metadata": {},
   "source": [
    "##### Creating One Instance"
   ]
  },
  {
   "cell_type": "code",
   "execution_count": 22,
   "metadata": {},
   "outputs": [
    {
     "name": "stdout",
     "output_type": "stream",
     "text": [
      "<__main__.Car object at 0x000001FCED1FDAF0>\n",
      "blue\n"
     ]
    }
   ],
   "source": [
    "ford = Car()\n",
    "print(ford)\n",
    "\n",
    "print(ford.color)"
   ]
  },
  {
   "cell_type": "markdown",
   "metadata": {},
   "source": [
    "##### Creating Multiple Instances"
   ]
  },
  {
   "cell_type": "code",
   "execution_count": 23,
   "metadata": {},
   "outputs": [
    {
     "name": "stdout",
     "output_type": "stream",
     "text": [
      "<__main__.Car object at 0x000001FCED1FDA30>\n",
      "4\n",
      "blue\n"
     ]
    }
   ],
   "source": [
    "chevy = Car()\n",
    "honda = Car()\n",
    "lambo = Car()\n",
    "\n",
    "print(chevy)\n",
    "print(honda.wheels)\n",
    "print(lambo.color)"
   ]
  },
  {
   "cell_type": "markdown",
   "metadata": {},
   "source": [
    "##### In-Class Exercise #1 - Create a Class 'Car' and Instantiate three different makes of cars"
   ]
  },
  {
   "cell_type": "code",
   "execution_count": 25,
   "metadata": {},
   "outputs": [
    {
     "name": "stdout",
     "output_type": "stream",
     "text": [
      "4\n",
      "4\n",
      "red\n",
      "False\n"
     ]
    }
   ],
   "source": [
    "class Car:\n",
    "    wheels = 4\n",
    "    doors = 4\n",
    "    color = 'red'\n",
    "    sunroof = False\n",
    "    \n",
    "    \n",
    "    \n",
    "\n",
    "kia = Car()\n",
    "toyota = Car()\n",
    "genMot = Car()\n",
    "tesla = Car()\n",
    "print(kia.wheels)\n",
    "print(toyota.doors)\n",
    "print(genMot.color)\n",
    "print(tesla.sunroof)"
   ]
  },
  {
   "cell_type": "markdown",
   "metadata": {},
   "source": [
    "## The \\__init\\__() Method <br>\n",
    "<p>This method is used in almost every created class, and called only once upon the creation of the class instance. This method will initialize all variables needed for the object.</p>"
   ]
  },
  {
   "cell_type": "code",
   "execution_count": 32,
   "metadata": {},
   "outputs": [
    {
     "name": "stdout",
     "output_type": "stream",
     "text": [
      "1\n",
      "3\n",
      "{'rooftop': 3, 'horn': 3, 'wheels': 18}\n"
     ]
    }
   ],
   "source": [
    "# 'dunder' or double underscore init double underscore (__init__())\n",
    "\n",
    "class Toy:\n",
    "    kind = 'Car'\n",
    "    \n",
    "    def __init__(self, rooftop, horn, wheels):\n",
    "        self.rooftop = rooftop\n",
    "        self.horn = horn\n",
    "        self.wheels = wheels\n",
    "\n",
    "hotwheels = Toy(1, 1, 4)\n",
    "tonka = Toy(3, 3, 18)\n",
    "\n",
    "print(hotwheels.rooftop)\n",
    "print(tonka.rooftop)\n",
    "print(tonka.__dict__)"
   ]
  },
  {
   "cell_type": "markdown",
   "metadata": {},
   "source": [
    "##### The 'self' Attribute <br>\n",
    "<p>This attribute is required to keep track of specific instance's attributes. Without the self attribute, the program would not know how to reference or keep track of an instance's attributes.</p>"
   ]
  },
  {
   "cell_type": "code",
   "execution_count": null,
   "metadata": {},
   "outputs": [],
   "source": [
    "# see above "
   ]
  },
  {
   "cell_type": "markdown",
   "metadata": {},
   "source": [
    "## Class Attributes <br>\n",
    "<p>While variables are inside of a class, they are referred to as attributes and not variables. When someone says 'attribute' you know they're speaking about a class. Attributes can be initialized through the init method, or outside of it.</p>"
   ]
  },
  {
   "cell_type": "markdown",
   "metadata": {},
   "source": [
    "##### Initializing Attributes"
   ]
  },
  {
   "cell_type": "code",
   "execution_count": null,
   "metadata": {},
   "outputs": [],
   "source": [
    "# see above"
   ]
  },
  {
   "cell_type": "markdown",
   "metadata": {},
   "source": [
    "##### Accessing Class Attributes"
   ]
  },
  {
   "cell_type": "code",
   "execution_count": 34,
   "metadata": {
    "scrolled": true
   },
   "outputs": [
    {
     "data": {
      "text/plain": [
       "1"
      ]
     },
     "execution_count": 34,
     "metadata": {},
     "output_type": "execute_result"
    }
   ],
   "source": [
    "tonka = Toy(1, 1, 4)\n",
    "\n",
    "tonka.rooftop"
   ]
  },
  {
   "cell_type": "markdown",
   "metadata": {},
   "source": [
    "##### Setting Defaults for Attributes"
   ]
  },
  {
   "cell_type": "code",
   "execution_count": 48,
   "metadata": {},
   "outputs": [
    {
     "name": "stdout",
     "output_type": "stream",
     "text": [
      "Black\n",
      "Brown\n"
     ]
    }
   ],
   "source": [
    "class Human:\n",
    "    def __init__(self, eyes, height, activity, hair='Brown'):\n",
    "        self.eyes = eyes\n",
    "        self.height = height\n",
    "        self.activity = activity\n",
    "        self.hair = hair\n",
    "\n",
    "adam = Human('brown', '6ft4in', True)\n",
    "\n",
    "julia = Human('brown', '5ft10in', True, 'Black')\n",
    "\n",
    "print(julia.hair)\n",
    "print(adam.hair)"
   ]
  },
  {
   "cell_type": "markdown",
   "metadata": {},
   "source": [
    "##### Changing Class Attributes <br>\n",
    "<p>Keep in mind there are global class attributes and then there are attributes only available to each class instance which won't effect other classes.</p>"
   ]
  },
  {
   "cell_type": "code",
   "execution_count": 49,
   "metadata": {},
   "outputs": [
    {
     "name": "stdout",
     "output_type": "stream",
     "text": [
      "BEFORE attribute change Black\n",
      "AFTER attribute change blonde\n"
     ]
    }
   ],
   "source": [
    "# Changing the attribute\n",
    "\n",
    "print(f'BEFORE attribute change {julia.hair}')\n",
    "\n",
    "julia.hair = 'blonde'\n",
    "\n",
    "print(f'AFTER attribute change {julia.hair}')"
   ]
  },
  {
   "cell_type": "code",
   "execution_count": null,
   "metadata": {},
   "outputs": [],
   "source": []
  },
  {
   "cell_type": "markdown",
   "metadata": {},
   "source": [
    "##### In-Class Exercise #2 - Add a doors and seats attribute to your 'Car' class then print out two different instances with different doors and seats"
   ]
  },
  {
   "cell_type": "code",
   "execution_count": 51,
   "metadata": {},
   "outputs": [
    {
     "name": "stdout",
     "output_type": "stream",
     "text": [
      "{'doors': 2, 'seats': 2}\n",
      "{'doors': 4, 'seats': 4}\n",
      "{'doors': 4, 'seats': 6}\n"
     ]
    }
   ],
   "source": [
    "class Car:\n",
    "    def __init__(self, doors, seats):\n",
    "        self.doors = doors\n",
    "        self.seats = seats\n",
    "\n",
    "mustang = Car(2, 2)\n",
    "cadillac = Car(4, 4)\n",
    "suburban = Car(4, 6)\n",
    "\n",
    "print(mustang.__dict__)\n",
    "print(cadillac.__dict__)\n",
    "print(suburban.__dict__)"
   ]
  },
  {
   "cell_type": "markdown",
   "metadata": {},
   "source": [
    "## Class Methods <br>\n",
    "<p>While inside of a class, functions are referred to as 'methods'. If you hear someone mention methods, they're speaking about classes. Methods are essentially functions, but only callable on the instances of a class.</p>"
   ]
  },
  {
   "cell_type": "markdown",
   "metadata": {},
   "source": [
    "##### Creating"
   ]
  },
  {
   "cell_type": "code",
   "execution_count": 69,
   "metadata": {},
   "outputs": [
    {
     "name": "stdout",
     "output_type": "stream",
     "text": [
      "Your current bag capacity is: 25\n"
     ]
    }
   ],
   "source": [
    "class ShoppingBag:\n",
    "    \"\"\"\n",
    "        The ShoppingBag Class will have handles, capacity, and items\n",
    "        to place inside.\n",
    "        \n",
    "        Attributes for class:\n",
    "        - handles: expected to be an integer\n",
    "        - capacity: expected to be a string or integer\n",
    "        - items: expected to be a list\n",
    "    \"\"\"\n",
    "    def __init__(self, handles, capacity, items):\n",
    "        self.handles = handles\n",
    "        self.capacity = capacity\n",
    "        self.items = items\n",
    "        \n",
    "    # Method to show all items in items list\n",
    "    def showShoppingBag(self):\n",
    "        print('Here are the items in your bag...')\n",
    "        for item in self.items:\n",
    "            print(item)\n",
    "\n",
    "    # Method to show capacity\n",
    "    def showCapacity(self):\n",
    "        print(f'Your current bag capacity is: {self.capacity}')\n",
    "\n",
    "    # Method to add items to bag\n",
    "    def addToShoppingBag(self):\n",
    "        product = input('What would you like to add? ')\n",
    "        self.items.append(product)\n",
    "        print(f'Success! Here is your new bag: {self.items}')\n",
    "\n",
    "    # change capacity dynamically\n",
    "    def changeCapacity(self, capacity):\n",
    "        self.capacity = capacity\n",
    "        \n",
    "    def increaseCapacity(self, changed_cap = 10):\n",
    "        if self.capacity == isinstance(changed_cap, str):\n",
    "            print('Cannot do that here...')\n",
    "        else:\n",
    "            self.capacity += changed_cap\n",
    "\n",
    "pacsun = ShoppingBag(2, 10, [])\n",
    "pacsun.changeCapacity(15)\n",
    "pacsun.increaseCapacity()\n",
    "pacsun.showCapacity()"
   ]
  },
  {
   "cell_type": "markdown",
   "metadata": {},
   "source": [
    "##### Calling"
   ]
  },
  {
   "cell_type": "code",
   "execution_count": 70,
   "metadata": {},
   "outputs": [
    {
     "name": "stdout",
     "output_type": "stream",
     "text": [
      "What do you want to do? add/show/quitadd\n",
      "What would you like to add? shoes\n",
      "Success! Here is your new bag: ['shoes']\n",
      "What do you want to do? add/show/quitshow\n",
      "Here are the items in your bag...\n",
      "shoes\n",
      "What do you want to do? add/show/quitquit\n",
      "Here are the items in your bag...\n",
      "shoes\n",
      "Thank you for shopping at Whole Foods!\n"
     ]
    }
   ],
   "source": [
    "# See Above\n",
    "\n",
    "#Create a new instance of ShoppingBag\n",
    "whole_foods = ShoppingBag(2, 10, [])\n",
    "\n",
    "def run():\n",
    "    while True:\n",
    "        response = input('What do you want to do? add/show/quit')\n",
    "        \n",
    "        if response.lower() == 'quit':\n",
    "            whole_foods.showShoppingBag()\n",
    "            print('Thank you for shopping at Whole Foods!')\n",
    "            break\n",
    "        elif response.lower() == 'add':\n",
    "            whole_foods.addToShoppingBag()\n",
    "        elif response.lower() == 'show':\n",
    "            whole_foods.showShoppingBag()\n",
    "        else:\n",
    "            print('Not a valid input -- please retry')\n",
    "\n",
    "            \n",
    "run()"
   ]
  },
  {
   "cell_type": "markdown",
   "metadata": {},
   "source": [
    "##### Modifying an Attribute's Value Through a Method"
   ]
  },
  {
   "cell_type": "code",
   "execution_count": 75,
   "metadata": {},
   "outputs": [
    {
     "name": "stdout",
     "output_type": "stream",
     "text": [
      "Your current bag capacity is: 100\n",
      "Your current bag capacity is: 50\n"
     ]
    }
   ],
   "source": [
    "mcdonalds = ShoppingBag(2, 100, [])\n",
    "mcdonalds.showCapacity()\n",
    "mcdonalds.changeCapacity(50)\n",
    "mcdonalds.showCapacity()"
   ]
  },
  {
   "cell_type": "markdown",
   "metadata": {},
   "source": [
    "##### Incrementing an Attribute's Value Through a Method"
   ]
  },
  {
   "cell_type": "code",
   "execution_count": 76,
   "metadata": {},
   "outputs": [
    {
     "name": "stdout",
     "output_type": "stream",
     "text": [
      "Your current bag capacity is: 60\n"
     ]
    }
   ],
   "source": [
    "mcdonalds.increaseCapacity()\n",
    "mcdonalds.showCapacity()"
   ]
  },
  {
   "cell_type": "markdown",
   "metadata": {},
   "source": [
    "##### In-Class Exercise #3 - Add a method that takes in three parameters of year, doors and seats and prints out a formatted print statement with make, model, year, seats, and doors"
   ]
  },
  {
   "cell_type": "code",
   "execution_count": 84,
   "metadata": {},
   "outputs": [
    {
     "name": "stdout",
     "output_type": "stream",
     "text": [
      "This car is from 2019 and is a Ford Explorer and has 4 doors and 5 seats.\n"
     ]
    }
   ],
   "source": [
    "# Create class with 2 paramters inside of the __init__ which are make and model\n",
    "# Inside of the Car class create a method that has 4 parameter in total (self,year,door,seats)\n",
    "# Output: This car is from 2019 and is a Ford Expolorer and has 4 doors and 5 seats\n",
    "\n",
    "class Car:\n",
    "    \n",
    "    def __init__(self, make, model):\n",
    "        self.make = make\n",
    "        self.model = model\n",
    "\n",
    "    def detailsCar(self, year, door, seats):\n",
    "        self.year = year\n",
    "        self.door = door\n",
    "        self.seats = seats\n",
    "        \n",
    "    def showCar(self):\n",
    "        print(f'This car is from {self.year} and is a {self.make.title()} {self.model.title()} and has {self.door} doors and {self.seats} seats.')\n",
    "\n",
    "myCar = Car('ford', 'explorer')\n",
    "myCar.detailsCar(2019, 4, 5)\n",
    "myCar.showCar()"
   ]
  },
  {
   "cell_type": "markdown",
   "metadata": {},
   "source": [
    "## Inheritance <br>\n",
    "<p>You can create a child-parent relationship between two classes by using inheritance. What this allows you to do is have overriding methods, but also inherit traits from the parent class. Think of it as an actual parent and child, the child will inherit the parent's genes, as will the classes in OOP</p>"
   ]
  },
  {
   "cell_type": "markdown",
   "metadata": {},
   "source": [
    "##### Syntax for Inheriting from a Parent Class"
   ]
  },
  {
   "cell_type": "code",
   "execution_count": 93,
   "metadata": {},
   "outputs": [
    {
     "name": "stdout",
     "output_type": "stream",
     "text": [
      "This Dog has a speed of 15 and his name is Griffin\n",
      "Bark\n"
     ]
    },
    {
     "data": {
      "text/plain": [
       "'Blue'"
      ]
     },
     "execution_count": 93,
     "metadata": {},
     "output_type": "execute_result"
    }
   ],
   "source": [
    "# Creation of our Parent Class --- Animal\n",
    "class Animal:\n",
    "    def __init__(self, name, species, legs = 4):\n",
    "        self.name = name\n",
    "        self.species = species\n",
    "        self.legs = legs\n",
    "        \n",
    "    # Generic Parent (Animal) Method - no override yet\n",
    "    def makeSound(self):\n",
    "        print('Make Some Generic Sound')\n",
    "        \n",
    "# Child class\n",
    "class Dog(Animal):\n",
    "    speed = 15\n",
    "    \n",
    "    def printInfo(self):\n",
    "        print(f'This Dog has a speed of {self.speed} and his name is {self.name}')\n",
    "        \n",
    "    def makeSound(self):\n",
    "        noise = 'Bark'\n",
    "        print(noise)\n",
    "    \n",
    "griffin = Dog('Griffin', 'Labrador Retriever')\n",
    "\n",
    "griffin.printInfo()\n",
    "griffin.makeSound()\n",
    "\n",
    "# Grandchild class\n",
    "class Mutt(Dog):\n",
    "    def __init__(self, name, species, eye_color, legs=4):\n",
    "        Dog.__init__(self, name, species, legs)\n",
    "        self.eye_color = eye_color\n",
    "        \n",
    "hank = Mutt('Hank', 'Mutt', 'Blue')\n",
    "hank.eye_color"
   ]
  },
  {
   "cell_type": "markdown",
   "metadata": {},
   "source": [
    "##### The \\__init\\__() Method for a Child Class - super()"
   ]
  },
  {
   "cell_type": "code",
   "execution_count": 97,
   "metadata": {
    "scrolled": true
   },
   "outputs": [
    {
     "data": {
      "text/plain": [
       "3"
      ]
     },
     "execution_count": 97,
     "metadata": {},
     "output_type": "execute_result"
    }
   ],
   "source": [
    "class Yorkie(Dog):\n",
    "    def __init__(self, name, species, eye_color, legs=4):\n",
    "        super().__init__(name, species, legs)\n",
    "        self.eye_color = eye_color\n",
    "        \n",
    "austin = Yorkie('Austin', 'yorkie', 'brown', 3)\n",
    "\n",
    "austin.legs"
   ]
  },
  {
   "cell_type": "markdown",
   "metadata": {},
   "source": [
    "##### Defining Attributes and Methods for the Child Class"
   ]
  },
  {
   "cell_type": "code",
   "execution_count": null,
   "metadata": {},
   "outputs": [],
   "source": [
    "# See Above\n",
    "# speed and printInfo() in Dog"
   ]
  },
  {
   "cell_type": "markdown",
   "metadata": {},
   "source": [
    "##### Method Overriding"
   ]
  },
  {
   "cell_type": "code",
   "execution_count": null,
   "metadata": {},
   "outputs": [],
   "source": [
    "# See Above\n",
    "# makeSound() in Dog"
   ]
  },
  {
   "cell_type": "markdown",
   "metadata": {},
   "source": [
    "## Classes as Attributes <br>\n",
    "<p>Classes can also be used as attributes within another class. This is useful in situations where you need to keep variables locally stored, instead of globally stored.</p>"
   ]
  },
  {
   "cell_type": "code",
   "execution_count": 101,
   "metadata": {},
   "outputs": [
    {
     "name": "stdout",
     "output_type": "stream",
     "text": [
      "<__main__.Battery object at 0x000001FCED95C3A0>\n",
      "16\n"
     ]
    }
   ],
   "source": [
    "class Battery:\n",
    "    volts = 7.8\n",
    "    \n",
    "    def __init__(self, cells):\n",
    "        self.cells = cells\n",
    "        \n",
    "class Car:\n",
    "    def __init__(self, make, battery):\n",
    "        self.make = make\n",
    "        self.battery = battery\n",
    "        \n",
    "\n",
    "batt = Battery(16)\n",
    "\n",
    "tesla = Car('tesla', batt)\n",
    "\n",
    "print(tesla.battery)\n",
    "print(tesla.battery.cells)"
   ]
  },
  {
   "cell_type": "markdown",
   "metadata": {},
   "source": [
    "# Exercises"
   ]
  },
  {
   "cell_type": "markdown",
   "metadata": {},
   "source": [
    "### Exercise 1 - Turn the shopping cart program from yesterday into an object-oriented program\n",
    "\n",
    "The comments in the cell below are there as a guide for thinking about the problem. However, if you feel a different way is best for you and your own thought process, please do what feels best for you by all means."
   ]
  },
  {
   "cell_type": "code",
   "execution_count": 1,
   "metadata": {},
   "outputs": [
    {
     "name": "stdout",
     "output_type": "stream",
     "text": [
      "Here are the items in your shopping cart:\n",
      "2 apples\n",
      "Thank you for shopping with us!\n"
     ]
    }
   ],
   "source": [
    "# Create a class called cart that retains items and has methods to add, remove, and show\n",
    "from IPython.display import clear_output\n",
    "\n",
    "\n",
    "class Cart():\n",
    "    def __init__(self, shopCart = {}):\n",
    "        self.shopCart = shopCart\n",
    "        \n",
    "    def run(self):\n",
    "        while True:\n",
    "            initial = input('Do you want to : Show/Add/Remove or Quit? ').lower()\n",
    "            if initial == 'show':\n",
    "                self.showCart()\n",
    "            elif initial == 'add':\n",
    "                self.addItem()\n",
    "            elif initial == 'remove':\n",
    "                self.removeItem()\n",
    "            elif initial == 'quit':\n",
    "                self.quitCart(initial)\n",
    "                break\n",
    "            else:\n",
    "                print('That is not a valid input')\n",
    "        \n",
    "    def addItem(self):\n",
    "        while True:\n",
    "            item = input('What do you want to add? ')\n",
    "            if item not in self.shopCart.keys():\n",
    "                quantity = input('How many do you want to buy? ')\n",
    "                if quantity.isnumeric():\n",
    "                    self.shopCart[item] = int(quantity)\n",
    "                    clear_output()\n",
    "                    print(f'Success! You have added {quantity} of {item}')\n",
    "                    break\n",
    "                else:\n",
    "                    clear_output()\n",
    "                    print('That is not a valid input')\n",
    "            else:\n",
    "                quantity = input('How many do you want to buy? ')\n",
    "                self.shopCart[item] += int(quantity)\n",
    "                clear_output()\n",
    "                print(f'Success! You have added {quantity} of {item}')\n",
    "                break\n",
    "        \n",
    "    def removeItem(self):\n",
    "        clear_output()\n",
    "        while True:\n",
    "            self.showCart()\n",
    "            item = input('Which one do you want to delete? ')\n",
    "            if item in self.shopCart.keys():\n",
    "                quantity = int(self.shopCart[item])\n",
    "                removal = input(f'You have {quantity} of {item}. How many do you want to remove? ')\n",
    "                if removal.isnumeric():\n",
    "                    quantity -= int(removal)\n",
    "                    if quantity <= 0:\n",
    "                        del self.shopCart[item]\n",
    "                        clear_output()\n",
    "                        print(f'Success! You have removed all of {item}')\n",
    "                        break\n",
    "                    else:\n",
    "                        clear_output()\n",
    "                        self.shopCart[item] = quantity\n",
    "                        print(f'Success! You have removed {quantity} of {item}')\n",
    "                        break\n",
    "                else:\n",
    "                    print('That is not a valid input')\n",
    "            else:\n",
    "                print('Sorry that is not on your list')\n",
    "        \n",
    "    def showCart(self):\n",
    "        if self.shopCart == {}:\n",
    "            print('There is nothing in your cart!')\n",
    "        else:\n",
    "            print('Here are the items in your shopping cart:')\n",
    "            for key, value in self.shopCart.items():\n",
    "                print(value, key)\n",
    "        \n",
    "    def quitCart(self, answer):\n",
    "        if answer == 'quit':\n",
    "            clear_output()\n",
    "            self.showCart()\n",
    "            print('Thank you for shopping with us!')\n",
    "        \n",
    "\n",
    "cart = Cart()\n",
    "cart.run()\n",
    "        \n",
    "        "
   ]
  },
  {
   "cell_type": "markdown",
   "metadata": {},
   "source": [
    "### Exercise 2 - Write a Python class which has two methods get_String and print_String. get_String accept a string from the user and print_String print the string in upper case"
   ]
  },
  {
   "cell_type": "code",
   "execution_count": 187,
   "metadata": {},
   "outputs": [
    {
     "name": "stdout",
     "output_type": "stream",
     "text": [
      "Which has a higher air speed velocity? A European or African Swallow? european\n",
      "EUROPEAN\n"
     ]
    }
   ],
   "source": [
    "class UpperCase:\n",
    "    def __init__(self, a_string = \"\"):\n",
    "        self.a_string = a_string\n",
    "    \n",
    "    def get_String(self):\n",
    "        self.a_string = input(\"Which has a higher air speed velocity? A European or African Swallow? \")\n",
    "        \n",
    "    def print_String(self):\n",
    "        print(self.a_string.upper())\n",
    "        \n",
    "run = UpperCase()\n",
    "run.get_String()\n",
    "run.print_String()"
   ]
  },
  {
   "cell_type": "code",
   "execution_count": null,
   "metadata": {},
   "outputs": [],
   "source": []
  }
 ],
 "metadata": {
  "kernelspec": {
   "display_name": "Python 3",
   "language": "python",
   "name": "python3"
  },
  "language_info": {
   "codemirror_mode": {
    "name": "ipython",
    "version": 3
   },
   "file_extension": ".py",
   "mimetype": "text/x-python",
   "name": "python",
   "nbconvert_exporter": "python",
   "pygments_lexer": "ipython3",
   "version": "3.8.8"
  }
 },
 "nbformat": 4,
 "nbformat_minor": 2
}
